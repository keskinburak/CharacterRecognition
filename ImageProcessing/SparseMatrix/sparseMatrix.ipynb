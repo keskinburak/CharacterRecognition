{
 "cells": [
  {
   "cell_type": "code",
   "execution_count": 18,
   "metadata": {},
   "outputs": [
    {
     "data": {
      "image/png": "[encoded data removed]",
      "text/plain": [
       "<matplotlib.figure.Figure at 0x24e6e106be0>"
      ]
     },
     "metadata": {},
     "output_type": "display_data"
    },
    {
     "name": "stdout",
     "output_type": "stream",
     "text": [
      "(53, 53)\n",
      "\tsparseMatrix.F[(53, 53)]\t= 1\n",
      "(39, 70)\n",
      "\tsparseMatrix.F[(39, 70)]\t= 1\n",
      "(43, 3)\n",
      "\tsparseMatrix.F[(43, 3)]\t= 1\n",
      "(63, 76)\n",
      "\tsparseMatrix.F[(63, 76)]\t= 1\n",
      "(29, 44)\n",
      "\tsparseMatrix.F[(29, 44)]\t= 1\n"
     ]
    }
   ],
   "source": [
    "import numpy as np\n",
    "import matplotlib.pyplot as plt\n",
    "import math\n",
    "\n",
    "def RGBtoBW(image,threshold=120):\n",
    "    img2=np.zeros(image.shape[0:2])\n",
    "    for i in range(image.shape[0]):\n",
    "        for j in range(image.shape[1]):\n",
    "            if((sum(image[i,j,:])/3)>threshold):\n",
    "                img2[i,j]=1\n",
    "            else:\n",
    "                img2[i,j]=0\n",
    "    return img2\n",
    "\n",
    "def getHistogram(image):\n",
    "    myHistogram={}\n",
    "    for i in range(image.shape[0]):\n",
    "        for j in range(image.shape[1]):\n",
    "            if image[i,j] in myHistogram.keys():\n",
    "                myHistogram[image[i,j]]+=1\n",
    "            else:\n",
    "                myHistogram[image[i,j]]=1\n",
    "    return myHistogram\n",
    "\n",
    "class myMatrix():\n",
    "    def __init__(self,d,f):\n",
    "        self.D=d\n",
    "        self.F=f\n",
    "\n",
    "def create_D_F(image):\n",
    "    d=set()\n",
    "    for i in range(image.shape[0]):\n",
    "        for j in range(image.shape[1]):\n",
    "            if image[i,j]==1:\n",
    "                d.add((i,j))\n",
    "    f={}\n",
    "    for i,j in d:\n",
    "        f[(i,j)]=1\n",
    "    \n",
    "    return myMatrix(d,f)    \n",
    "    \n",
    "img1=plt.imread(\"a1.jpg\")\n",
    "img2=RGBtoBW(img1)\n",
    "plt.imshow(img2,plt.cm.binary_r)\n",
    "plt.show()\n",
    "\n",
    "myHistogram=getHistogram(img2)\n",
    "black=myHistogram[0.0]\n",
    "white=myHistogram[1.0]\n",
    "if((black/white)<((black+white)*20/100)):      #black's are little than %20 of image\n",
    "    sparseMatrix=create_D_F(img2)\n",
    "    for i in range(0,5):\n",
    "        print(list(sparseMatrix.D)[i])\n",
    "        print('\\tsparseMatrix.F[' + str(list(sparseMatrix.D)[i]) + ']\\t= ' + str(sparseMatrix.F[list(sparseMatrix.D)[i]]))\n"
   ]
  },
  {
   "cell_type": "code",
   "execution_count": null,
   "metadata": {
    "collapsed": true
   },
   "outputs": [],
   "source": []
  }
 ],
 "metadata": {
  "kernelspec": {
   "display_name": "Python 3",
   "language": "python",
   "name": "python3"
  },
  "language_info": {
   "codemirror_mode": {
    "name": "ipython",
    "version": 3
   },
   "file_extension": ".py",
   "mimetype": "text/x-python",
   "name": "python",
   "nbconvert_exporter": "python",
   "pygments_lexer": "ipython3",
   "version": "3.6.2"
  }
 },
 "nbformat": 4,
 "nbformat_minor": 2
}
