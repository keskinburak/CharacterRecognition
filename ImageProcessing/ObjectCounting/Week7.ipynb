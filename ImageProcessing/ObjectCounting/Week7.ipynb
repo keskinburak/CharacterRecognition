{
 "cells": [
  {
   "cell_type": "code",
   "execution_count": 1,
   "metadata": {
    "collapsed": true
   },
   "outputs": [],
   "source": [
    "def count_mask(image,mask):\n",
    "\n",
    "    ##Counting for the Internal and External Points\n",
    "    \n",
    "    counter=0\n",
    "    m=image.shape[0]\n",
    "    n=image.shape[1]\n",
    "    for i in range(m-1):\n",
    "        for j in range(n-1):\n",
    "            a=b=c=d=False\n",
    "            if (image[i,j]==mask[0][0]):\n",
    "                a=True\n",
    "            if (image[i,j+1]==mask[0][1]):\n",
    "                b=True\n",
    "            if (image[i+1,j]==mask[1][0]):\n",
    "                c=True\n",
    "            if (image[i+1,j+1]==mask[1][1]):\n",
    "                d=True\n",
    "            \n",
    "            if (a and b and c and d):\n",
    "                counter=counter +1\n",
    "\n",
    "    return counter\n",
    "\n",
    "##Loops for checking each internal and external mask\n",
    "def count_internal_mask(image):\n",
    "    counter_internal=0\n",
    "    for mask in internal_masks:\n",
    "        counter_internal=counter_internal+count_mask(image,mask)\n",
    "    return counter_internal\n",
    "\n",
    "def count_external_mask(image):\n",
    "    counter_external=0\n",
    "    for mask in external_masks:\n",
    "        counter_external=counter_external+count_mask(image,mask)\n",
    "    return counter_external"
   ]
  },
  {
   "cell_type": "code",
   "execution_count": 2,
   "metadata": {
    "collapsed": true
   },
   "outputs": [],
   "source": [
    "# Masks\n",
    "internal_mask_1=[[1,0],[0,0]]\n",
    "internal_mask_2=[[0,1],[0,0]]\n",
    "internal_mask_3=[[0,0],[1,0]]\n",
    "internal_mask_4=[[0,0],[0,1]]\n",
    "external_mask_1=[[0,1],[1,1]]\n",
    "external_mask_2=[[1,0],[1,1]]\n",
    "external_mask_3=[[1,1],[0,1]]\n",
    "external_mask_4=[[1,1],[1,0]]\n",
    "\n",
    "internal_masks=[internal_mask_1,internal_mask_2,internal_mask_3,internal_mask_4]\n",
    "external_masks=[external_mask_1,external_mask_2,external_mask_3,external_mask_4]"
   ]
  },
  {
   "cell_type": "code",
   "execution_count": 3,
   "metadata": {},
   "outputs": [
    {
     "data": {
      "image/png": "[encoded data removed]",
      "text/plain": [
       "<matplotlib.figure.Figure at 0x17f50856860>"
      ]
     },
     "metadata": {},
     "output_type": "display_data"
    }
   ],
   "source": [
    "import numpy as np\n",
    "import matplotlib.pyplot as plt\n",
    "\n",
    "#Reading Image\n",
    "img_1=plt.imread(\"img_1.jpg\")\n",
    "img_1.ndim\n",
    "img_1.shape\n",
    "img_1\n",
    "\n",
    "#Imaged Turning to Black-White Image\n",
    "img3 = np.zeros(img_1.shape[0:2])\n",
    "img3.shape\n",
    "threshold = 128\n",
    "for i in range(img_1.shape[0]):\n",
    "    for j in range(img_1.shape[1]):\n",
    "        n = img_1[i,j,0]/3 + img_1[i,j,1]/3 + img_1[i,j,2]/3   \n",
    "        if n > threshold:\n",
    "            img3[i,j] = 0\n",
    "        else:\n",
    "            img3[i,j] = 1\n",
    "            \n",
    "\n",
    "plt.imshow(img3, plt.cm.binary)\n",
    "plt.show()"
   ]
  },
  {
   "cell_type": "code",
   "execution_count": 10,
   "metadata": {},
   "outputs": [
    {
     "name": "stdout",
     "output_type": "stream",
     "text": [
      "Resimdeki Nesne Sayısı :3 \n"
     ]
    }
   ],
   "source": [
    "c_1=count_internal_mask(img3)\n",
    "c_2=count_external_mask(img3)\n",
    "print(\"Resimdeki Nesne Sayısı :%d \" %(abs(c_1-c_2)/4))"
   ]
  }
 ],
 "metadata": {
  "kernelspec": {
   "display_name": "Python 3",
   "language": "python",
   "name": "python3"
  },
  "language_info": {
   "codemirror_mode": {
    "name": "ipython",
    "version": 3
   },
   "file_extension": ".py",
   "mimetype": "text/x-python",
   "name": "python",
   "nbconvert_exporter": "python",
   "pygments_lexer": "ipython3",
   "version": "3.6.2"
  }
 },
 "nbformat": 4,
 "nbformat_minor": 2
}
