{
 "cells": [
  {
   "cell_type": "code",
   "execution_count": 1,
   "metadata": {},
   "outputs": [
    {
     "data": {
      "image/png": "[encoded data removed]",
      "text/plain": [
       "<matplotlib.figure.Figure at 0x1baea274b38>"
      ]
     },
     "metadata": {},
     "output_type": "display_data"
    },
    {
     "data": {
      "image/png": "[encoded data removed]",
      "text/plain": [
       "<matplotlib.figure.Figure at 0x1bae75a9828>"
      ]
     },
     "metadata": {},
     "output_type": "display_data"
    }
   ],
   "source": [
    "def define_mask():\n",
    "    mask_1=[(1,1,1),(1,1,1),(1,1,1)]\n",
    "    return mask_1\n",
    "\n",
    "def RGB_to_BW(img1,threshold=100):\n",
    "    img2 = np.zeros(img1.shape[0:2])\n",
    "    for i in range(img1.shape[0]):\n",
    "        for j in range(img1.shape[1]):\n",
    "            n = img1[i,j,0]/3 + img1[i,j,1]/3 + img1[i,j,2]/3\n",
    "            if n > threshold:\n",
    "                img2[i,j] = 0\n",
    "            else:\n",
    "                img2[i,j] = 1\n",
    "    return img2\n",
    "\n",
    "def my_dilation(img_1,mask):\n",
    "    m=img_1.shape[0]\n",
    "    n=img_1.shape[1]\n",
    "    img_2=np.random.randint(0,1,(m,n))\n",
    "    for i in range(1,m-1):\n",
    "        for j in range(1,n-1):\n",
    "            x_1=(img_1[i,j] and mask[1][1])\n",
    "            x_2=img_1[i-1,j-1] and mask[0][0] \n",
    "            x_3=img_1[i-1,j] and mask[0][1]  \n",
    "            x_4=img_1[i-1,j+1] and mask[0][2]\n",
    "            x_5=img_1[i+1,j-1] and mask[2][0]\n",
    "            x_6=img_1[i+1,j] and mask[2][1]\n",
    "            x_7=img_1[i+1,j+1] and mask[2][2]\n",
    "            x_8=img_1[i,j-1] and mask[1][0]\n",
    "            x_9=img_1[i,j+1] and mask[1][2]\n",
    "        \n",
    "            result_1=x_1 or x_2 or x_3 or x_4 or x_5\n",
    "            result_2=x_6 or x_7 or x_8 or x_9 \n",
    "        \n",
    "            result = result_1 or result_2\n",
    "            img_2[i,j]=result\n",
    "    return img_2\n",
    "\n",
    "import numpy as np\n",
    "import matplotlib.pyplot as plt\n",
    "\n",
    "mask=define_mask()\n",
    "img1=plt.imread(\"a1.jpg\")\n",
    "img2=RGB_to_BW(img1)\n",
    "img3=my_dilation(img2,mask)\n",
    "\n",
    "plt.imshow(img2,plt.cm.binary)\n",
    "plt.show()\n",
    "plt.imshow(img3, plt.cm.binary)\n",
    "plt.show()"
   ]
  },
  {
   "cell_type": "code",
   "execution_count": null,
   "metadata": {
    "collapsed": true
   },
   "outputs": [],
   "source": []
  }
 ],
 "metadata": {
  "anaconda-cloud": {},
  "kernelspec": {
   "display_name": "Python 3",
   "language": "python",
   "name": "python3"
  },
  "language_info": {
   "codemirror_mode": {
    "name": "ipython",
    "version": 3
   },
   "file_extension": ".py",
   "mimetype": "text/x-python",
   "name": "python",
   "nbconvert_exporter": "python",
   "pygments_lexer": "ipython3",
   "version": "3.6.2"
  },
  "widgets": {
   "application/vnd.jupyter.widget-state+json": {
    "state": {},
    "version_major": 2,
    "version_minor": 0
   }
  }
 },
 "nbformat": 4,
 "nbformat_minor": 1
}
